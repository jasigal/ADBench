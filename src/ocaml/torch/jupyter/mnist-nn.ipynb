{
 "cells": [
  {
   "cell_type": "code",
   "execution_count": null,
   "metadata": {},
   "outputs": [],
   "source": [
    "#use \"topfind\"\n",
    "#require \"torch\"\n",
    "open Base\n",
    "open Torch"
   ]
  },
  {
   "cell_type": "code",
   "execution_count": 19,
   "metadata": {},
   "outputs": [
    {
     "data": {
      "text/plain": [
       "val hidden_nodes : int = 128\n"
      ]
     },
     "execution_count": 19,
     "metadata": {},
     "output_type": "execute_result"
    },
    {
     "data": {
      "text/plain": [
       "val epochs : int = 1000\n"
      ]
     },
     "execution_count": 19,
     "metadata": {},
     "output_type": "execute_result"
    },
    {
     "data": {
      "text/plain": [
       "val learning_rate : float = 0.001\n"
      ]
     },
     "execution_count": 19,
     "metadata": {},
     "output_type": "execute_result"
    },
    {
     "data": {
      "text/plain": [
       "val mnist : Torch.Mnist_helper.t =\n",
       "  {Torch.Mnist_helper.train_images = <abstr>; train_labels = <abstr>;\n",
       "   test_images = <abstr>; test_labels = <abstr>}\n"
      ]
     },
     "execution_count": 19,
     "metadata": {},
     "output_type": "execute_result"
    },
    {
     "data": {
      "text/plain": [
       "val train_images : Torch.Tensor.t = <abstr>\n",
       "val train_labels : Torch.Tensor.t = <abstr>\n"
      ]
     },
     "execution_count": 19,
     "metadata": {},
     "output_type": "execute_result"
    }
   ],
   "source": [
    "(* This should reach ~97% accuracy. *)\n",
    "let hidden_nodes = 128\n",
    "let epochs = 1000\n",
    "let learning_rate = 1e-3\n",
    "\n",
    "(* Loads the MNIST dataset. *)\n",
    "let mnist = Mnist_helper.read_files ~with_caching:true ()\n",
    "let { Dataset_helper.train_images; train_labels; _ } = mnist"
   ]
  },
  {
   "cell_type": "code",
   "execution_count": 20,
   "metadata": {},
   "outputs": [
    {
     "data": {
      "text/plain": [
       "val vs : Torch.Layer.Var_store.t = <abstr>\n"
      ]
     },
     "execution_count": 20,
     "metadata": {},
     "output_type": "execute_result"
    },
    {
     "data": {
      "text/plain": [
       "val linear1 : Torch.Layer.t = <abstr>\n"
      ]
     },
     "execution_count": 20,
     "metadata": {},
     "output_type": "execute_result"
    },
    {
     "data": {
      "text/plain": [
       "val linear2 : Torch.Layer.t = <abstr>\n"
      ]
     },
     "execution_count": 20,
     "metadata": {},
     "output_type": "execute_result"
    },
    {
     "data": {
      "text/plain": [
       "val model : Torch.Tensor.t -> Torch.Tensor.t = <fun>\n"
      ]
     },
     "execution_count": 20,
     "metadata": {},
     "output_type": "execute_result"
    },
    {
     "data": {
      "text/plain": [
       "val adam : Torch.Optimizer.t = <abstr>\n"
      ]
     },
     "execution_count": 20,
     "metadata": {},
     "output_type": "execute_result"
    }
   ],
   "source": [
    "let vs = Var_store.create ~name:\"nn\" ()\n",
    "let linear1 = Layer.linear vs hidden_nodes ~activation:Relu ~input_dim:Mnist_helper.image_dim\n",
    "let linear2 = Layer.linear vs Mnist_helper.label_count ~input_dim:hidden_nodes\n",
    "let model xs = Layer.forward linear1 xs |> Layer.forward linear2\n",
    "\n",
    "let adam = Optimizer.adam vs ~learning_rate"
   ]
  },
  {
   "cell_type": "code",
   "execution_count": 21,
   "metadata": {},
   "outputs": [
    {
     "name": "stdout",
     "output_type": "stream",
     "text": [
      "50 0.041288 89.45%\n",
      "100 0.027718 92.59%\n",
      "150 0.021788 93.96%\n",
      "200 0.017728 94.83%\n",
      "250 0.014741 95.38%\n",
      "300 0.012470 95.85%\n",
      "350 0.010663 96.25%\n",
      "400 0.009181 96.50%\n",
      "450 0.007949 96.70%\n",
      "500 0.006925 96.92%\n",
      "550 0.006074 96.96%\n",
      "600 0.005358 97.05%\n",
      "650 0.004746 97.06%\n",
      "700 0.004215 97.11%\n",
      "750 0.003748 97.14%\n",
      "800 0.003337 97.23%\n",
      "850 0.002973 97.26%\n",
      "900 0.002651 97.35%\n",
      "950 0.002368 97.39%\n",
      "1000 0.002119 97.38%\n"
     ]
    },
    {
     "data": {
      "text/plain": [
       "- : unit = ()\n"
      ]
     },
     "execution_count": 21,
     "metadata": {},
     "output_type": "execute_result"
    }
   ],
   "source": [
    "for index = 1 to epochs do\n",
    "  (* Compute the cross-entropy loss. *)\n",
    "  let loss = Tensor.cross_entropy_for_logits (model train_images) ~targets:train_labels in\n",
    "\n",
    "  Optimizer.backward_step adam ~loss;\n",
    "\n",
    "  if index % 50 = 0 then begin\n",
    "    (* Compute the validation error. *)\n",
    "    let test_accuracy =\n",
    "      Dataset_helper.batch_accuracy mnist `test ~batch_size:1000 ~predict:model\n",
    "    in\n",
    "    Stdio.printf \"%d %f %.2f%%\\n%!\" index (Tensor.float_value loss) (100. *. test_accuracy);\n",
    "  end;\n",
    "  Stdlib.Gc.full_major ();\n",
    "done"
   ]
  }
 ],
 "metadata": {
  "kernelspec": {
   "display_name": "OCaml 4.07.0",
   "language": "OCaml",
   "name": "ocaml-jupyter"
  },
  "language_info": {
   "codemirror_mode": "text/x-ocaml",
   "file_extension": ".ml",
   "mimetype": "text/x-ocaml",
   "name": "OCaml",
   "nbconverter_exporter": null,
   "pygments_lexer": "OCaml",
   "version": "4.07.0"
  }
 },
 "nbformat": 4,
 "nbformat_minor": 2
}
